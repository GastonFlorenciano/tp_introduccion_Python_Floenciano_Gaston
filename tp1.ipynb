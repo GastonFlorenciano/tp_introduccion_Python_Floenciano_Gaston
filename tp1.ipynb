{
 "cells": [
  {
   "cell_type": "markdown",
   "metadata": {},
   "source": [
    "# Criterios de evaluación.\n",
    "\n",
    "* Se deben utilizar nombres de variables descriptivos y claros.\n",
    "* Cada ejercicio debe ser realizado utilizando **FUNCIONES**, NO solo codigo suelto.\n",
    "* Comentarios claros y concisos que expliquen el propósito de cada sección del código.\n",
    "* Entrega en tiempo y forma.\n",
    "* Todo el código desarrollado debe ser subido a un repositorio en GitHub.\n",
    "\n",
    "\n",
    "**Aclaración: Para resolver las actividades se debe incertar casillas de codigo entre cada actividad del cuaderno de Jupyter**"
   ]
  },
  {
   "cell_type": "markdown",
   "metadata": {},
   "source": [
    "### 1. **Bucles**\n",
    "\n",
    "   - **Actividad 1.1**: Escribir un programa que muestre el print de todo lo que el usuario introduzca hasta que el usuario escriba “salir” que terminará.\n",
    "   \n",
    "   - **Actividad 1.2**: Escribir un programa que pida al usuario un número entero y muestre por pantalla un triángulo rectángulo como el de más abajo con la cantidad de escalones indicados previamente (los numeros dentro del triangulo deben ser enteros aleatorios del 0 al 9).\n",
    "* 1\n",
    "* 3 1\n",
    "* 5 3 1\n",
    "* 7 5 3 1\n",
    "* 9 7 5 3 1"
   ]
  },
  {
   "cell_type": "code",
   "execution_count": null,
   "metadata": {},
   "outputs": [
    {
     "name": "stdout",
     "output_type": "stream",
     "text": [
      "hola\n",
      "dea\n",
      "dea\n",
      "Saliendo de la función.\n"
     ]
    }
   ],
   "source": [
    "\n",
    "# todo: Resolución\n",
    "# ! 1\n",
    "def user_num():\n",
    "    while True: #Se crea un bucle para que el usuario pueda ingresar datos indefinidamente\n",
    "        entrada = input(\"Escribe algo (o escribe 'salir' para terminar): \") #Se solicita al usuario que ingrese un dato\n",
    "        if entrada.lower() == \"salir\": #Se verifica si el dato ingresado es \"salir\"\n",
    "            print(\"Saliendo de la función.\") #Se imprime un mensaje de salida\n",
    "            break #Se sale del bucle si el dato es \"salir\"\n",
    "        else: #Sino se imprime el dato ingresado\n",
    "            print(entrada) o\n",
    "user_num()"
   ]
  },
  {
   "cell_type": "code",
   "execution_count": null,
   "metadata": {},
   "outputs": [
    {
     "name": "stdout",
     "output_type": "stream",
     "text": [
      "9\n",
      "5 4\n",
      "8 1 0\n",
      "0 4 7 9\n"
     ]
    }
   ],
   "source": [
    "\n",
    "# todo: resolución\n",
    "\n",
    "# ! 2\n",
    "import random\n",
    "\n",
    "def triangulo_rectangulo():\n",
    "    try: #Si el numero ingresado cumple con los requisitos, entonces se ejecuta el bloque try\n",
    "        num = int(input(\"Introduce un número entero: \")) #Se le pide al usuario que ingrese un número entero y se lo guarda en la variable num\n",
    "        for i in range(1, num + 1): #Se itera desde 1 hasta el número ingresado por el usuario\n",
    "            linea = [str(random.randint(0, 9)) for _ in range(i)] #Se guarda uno o varios numeros en una lista llamada \"linea\", dependiendo la iteración en la que está\n",
    "            print(\" \".join(linea)) #Se une el o los números de la lista \"linea\" y se imprime en pantalla\n",
    "    except ValueError: #Si el número ingresado no es un entero, se ejecuta el bloque except\n",
    "        print(\"Entrada no válida. Por favor, ingresá un número entero.\")\n",
    "triangulo_rectangulo()"
   ]
  },
  {
   "cell_type": "markdown",
   "metadata": {},
   "source": [
    "### 2. **Listas y Tuplas**\n",
    "\n",
    "   - **Actividad 1**: Escribir un programa que pida al usuario una frase y muestre por pantalla el número de veces que contiene cada vocal y la cantidad de espacios en blanco.\n",
    "\n",
    "   - **Actividad 2**: Escribir un programa que cree una matriz (con numeros aleatorios del 1 al 100) usando las dimensiones de X e Y que el usuario deberia ingresar por consola, luego crea una tupla con la matriz transpuesta y por ultimo las muestra ambas por consola .\n",
    "\n",
    "   - **Actividad 3**: Escribir un programa que almacene en una lista los siguientes precios, 50, 75, 46, 22, 80, 65, 8, y muestre por pantalla el menor y el mayor de los precios"
   ]
  },
  {
   "cell_type": "code",
   "execution_count": null,
   "metadata": {},
   "outputs": [
    {
     "name": "stdout",
     "output_type": "stream",
     "text": [
      "h\n",
      "o\n",
      "l\n",
      "a\n",
      " \n",
      "c\n",
      "h\n",
      "a\n",
      "u\n",
      "\n",
      "Cantidad de veces que aparece cada vocal:\n",
      "a: 2\n",
      "e: 0\n",
      "i: 0\n",
      "o: 1\n",
      "u: 1\n",
      "\n",
      "Cantidad de espacios en blanco: 1\n"
     ]
    }
   ],
   "source": [
    "\n",
    "# todo: Resolución\n",
    "\n",
    "# ! 1\n",
    "def contar_vocales_espacios():\n",
    "    frase = input(\"Escribí una frase: \").lower() #Se solicita al usuario que ingrese una frase y se convierte a minúsculas\n",
    "\n",
    "    vocales = \"aeiou\" #Se definen las vocales\n",
    "    conteo_vocales = {v: 0 for v in vocales} #Se crea un contandor para contar las vocales, inicializando cada una en 0\n",
    "    espacios = 0 #Se inicializa el contador de espacios en blanco en 0\n",
    "\n",
    "    for caracter in frase: #Se itera sobre cada caracter de la frase ingresada por el usuario\n",
    "        if caracter in conteo_vocales: #Si el caracter es una vocal, se incrementa su contador\n",
    "            conteo_vocales[caracter] += 1\n",
    "        elif caracter == \" \": #Si el caracter es un espacio en blanco, se incrementa el contador de espacios\n",
    "            espacios += 1\n",
    "\n",
    "    print(\"\\nCantidad de veces que aparece cada vocal:\")\n",
    "    for vocal, cantidad in conteo_vocales.items(): #Se itera sobre el contador de vocales y se imprime la cantidad de veces que aparece cada vocal\n",
    "        print(f\"{vocal}: {cantidad}\")\n",
    "    \n",
    "    print(f\"\\nCantidad de espacios en blanco: {espacios}\") #Se imprime la cantidad de espacios en blanco\n",
    "contar_vocales_espacios()\n"
   ]
  },
  {
   "cell_type": "code",
   "execution_count": null,
   "metadata": {},
   "outputs": [
    {
     "name": "stdout",
     "output_type": "stream",
     "text": [
      "\n",
      "Matriz original:\n",
      "\n",
      "  24  41  12\n",
      "  43  83  13\n",
      "\n",
      "Matriz transpuesta:\n",
      "\n",
      "  24  43\n",
      "  41  83\n",
      "  12  13\n"
     ]
    }
   ],
   "source": [
    "\n",
    "# todo: Resolución\n",
    "\n",
    "# ! 2\n",
    "import random\n",
    "\n",
    "def generar_matriz():\n",
    "    try:\n",
    "        x = int(input(\"Ingrese la cantidad de columnas (eje x): \"))\n",
    "        y = int(input(\"Ingrese la cantidad de filas (eje y): \"))\n",
    "\n",
    "        matriz = [[random.randint(1, 100) for _ in range(x)] for _ in range(y)] #Se generan tantas columnas (x) distribuyendo en tantas filas (y)\n",
    "\n",
    "        print(\"\\nMatriz original:\\n\")\n",
    "\n",
    "        for fila in matriz: #Se itera sobre cada fila de la matriz\n",
    "            print(\"\".join(str(num).rjust(4) for num in fila)) #Se imprime la fila de la matriz, alineando los números a la derecha con un ancho de 4 caracteres\n",
    "\n",
    "        matriz_transpuesta = list(zip(*matriz)) #Se transpone la matriz utilizando la función zip y el operador * para descomponer la matriz original\n",
    "\n",
    "        print(\"\\nMatriz transpuesta:\\n\")\n",
    "\n",
    "        for fila in matriz_transpuesta: #Se itera sobre cada fila de la matriz transpuesta\n",
    "            print(\"\".join(str(num).rjust(4) for num in fila))  #Se imprime la fila de la matriz, alineando los números a la derecha con un ancho de 4 caracteres\n",
    "\n",
    "\n",
    "    except ValueError:\n",
    "        print(\"Por favor, ingresá solo números enteros.\")\n",
    "\n",
    "generar_matriz()\n",
    "\n",
    "\n"
   ]
  },
  {
   "cell_type": "code",
   "execution_count": null,
   "metadata": {},
   "outputs": [
    {
     "name": "stdout",
     "output_type": "stream",
     "text": [
      "Precios ordenados de menor a mayor: [8, 22, 46, 50, 65, 75, 80]\n"
     ]
    }
   ],
   "source": [
    "\n",
    "# todo: Resolución\n",
    "\n",
    "# ! 3\n",
    "def menor_a_mayor():\n",
    "    \n",
    "    precios = [50, 75, 46, 22, 80, 65, 8] #Se crea una lista con los precios\n",
    "\n",
    "    precios.sort() #Se ordenan los precios de menor a mayor\n",
    "\n",
    "    print(f\"Precios ordenados de menor a mayor: {precios}\") #Se imprime la lista de precios ordenados\n",
    "\n",
    "menor_a_mayor()"
   ]
  },
  {
   "cell_type": "markdown",
   "metadata": {},
   "source": [
    "### 3. **Diccionarios**\n",
    "\n",
    "   - **Actividad 1**: Escribir un programa que cree un diccionario simulando una cesta de la compra. El programa debe preguntar el artículo y su precio y añadir el par al diccionario, hasta que el usuario decida terminar. Después se debe mostrar por pantalla la lista de la compra y el coste total, con el siguiente formato.\n",
    "\n",
    "   | arts  |precio |\n",
    "   |-------|-------|\n",
    "   |art 1  |1      |\n",
    "   |art 2  |2      |\n",
    "   |art 3  |3      |\n",
    "   |total  |6      |\n",
    "\n",
    "   - **Actividad 2**: Escribir un programa que cree un diccionario de traducción español-inglés. El usuario introducirá las palabras en español e inglés separadas por dos puntos, y cada par <palabra> : <traducción> separados por comas (es decir, solo se debe usar **UNA VEZ** la función input para la carga de palabras). El programa debe crear un diccionario con las palabras y sus traducciones. Después pedirá una frase en español y utilizará el diccionario para traducirla palabra a palabra. Si una palabra no está en el diccionario debe dejarla sin traducir.\n",
    "\n",
    "   - **Actividad 3**: Escribir un programa que reciba una cadena de caracteres y devuelva un diccionario con cada palabra que contiene y su frecuencia. Escribir otra función que reciba el diccionario generado con la función anterior y devuelva una tupla con la palabra más repetida y su frecuencia."
   ]
  },
  {
   "cell_type": "code",
   "execution_count": null,
   "metadata": {},
   "outputs": [
    {
     "name": "stdout",
     "output_type": "stream",
     "text": [
      "Precio inválido. Intente de nuevo.\n",
      "\n",
      "Precio inválido. Intente de nuevo.\n",
      "\n"
     ]
    }
   ],
   "source": [
    "\n",
    "# todo: Resolución\n",
    "\n",
    "# ! 1\n",
    "def cesta_de_compra():\n",
    "    cesta = {}  # Diccionario vacío\n",
    "\n",
    "    while True: # Se inicia un bucle para permitir múltiples entradas\n",
    "        articulo = input(\"Ingrese un artículo (o escriba 'fin' para salir): \")  # Se solicita al usuario que ingrese un artículo\n",
    "\n",
    "        if articulo.lower() == \"fin\": # Si el usuario ingresa \"fin\", se sale del bucle\n",
    "            break\n",
    "\n",
    "        try: #Se le solicita el precio del artículo al usuario y se agrega el artículo y su precio al diccionario\n",
    "            precio = float(input(\"Precio: $\"))\n",
    "            cesta[articulo] = precio \n",
    "\n",
    "        except ValueError:\n",
    "            print(\"Precio inválido. Intente de nuevo.\\n\")\n",
    "\n",
    "    print(\"\\nLista de la compra:\\n\")\n",
    "\n",
    "    total = 0 # Se inicializa el total en 0\n",
    "\n",
    "    for articulo, precio in cesta.items(): # Se itera sobre los artículos y precios en el diccionario\n",
    "\n",
    "        print(f\"{articulo}: ${precio:.2f}\") # Se imprime el artículo y su precio \n",
    "\n",
    "        total += precio # Se suma el precio del artículo al total\n",
    "\n",
    "    print(f\"\\nTotal: ${total:.2f}\") # Se imprime el total de la compra\n",
    "    \n",
    "cesta_de_compra()\n"
   ]
  },
  {
   "cell_type": "code",
   "execution_count": 6,
   "metadata": {},
   "outputs": [
    {
     "name": "stdout",
     "output_type": "stream",
     "text": [
      "Traducción:\n",
      "el dog mordio al cat\n"
     ]
    }
   ],
   "source": [
    "\n",
    "# todo: Resolución\n",
    "\n",
    "# ! 2\n",
    "\n",
    "def traductor():\n",
    "    entrada = input(\"Ingrese una o más palabras en formato es:en (perro:dog), separadas por comas:\\n\") #Se solicita al usuario que ingrese una o más palabras en español con su traducción en inlgés\n",
    "    \n",
    "    \n",
    "    pares = entrada.split(\",\") #Se separan las palabras ingresadas por comas\n",
    "\n",
    "    diccionario = {} #Se crea un diccionario vacío\n",
    "\n",
    "    for par in pares:   #Se itera sobre cada par de palabras\n",
    "        \n",
    "        if \":\" in par: #Se verifica si hay un \":\" en el par de palabras\n",
    "\n",
    "            esp, ing = par.strip().split(\":\") #Se eliminan los espacios en los pares y se separan las palabras en español e inglés utilizando el \":\" como separador\n",
    "\n",
    "            diccionario[esp.strip()] = ing.strip() #Se agregan las palabras al diccionario, eliminando los espacios en cada palabra\n",
    "\n",
    "    frase = input(\"Ingrese una frase en español para traducir:\") #Se solicita al usuario que ingrese una frase en español para traducir\n",
    "\n",
    "    palabras = frase.split() #Se separan las palabras de la frase ingresada por el usuario\n",
    "\n",
    "    traduccion = [diccionario.get(palabra, palabra) for palabra in palabras] #Se traduce cada palabra utilizando el diccionario, si no se encuentra la palabra se deja la original\n",
    "\n",
    "    print(\"Traducción:\")\n",
    "    print(\" \".join(traduccion)) #Se imprime la traducción de la frase ingresada por el usuario\n",
    "\n",
    "traductor()\n"
   ]
  },
  {
   "cell_type": "code",
   "execution_count": null,
   "metadata": {},
   "outputs": [
    {
     "data": {
      "text/plain": [
       "{'hola': 3, 'te': 1, 'gusta': 1, 'decir': 2, 'yo': 1, 'odio': 1}"
      ]
     },
     "execution_count": 13,
     "metadata": {},
     "output_type": "execute_result"
    }
   ],
   "source": [
    "\n",
    "# todo: Resolución\n",
    "\n",
    "# ! 3\n",
    "\n",
    "def contar_palabras():\n",
    "\n",
    "    texto = input(\"Ingrese un texto: \") #Se solicita al usuario que ingrese un texto\n",
    "\n",
    "    palabras = texto.lower().split() #Se convierte el texto a minúsculas y se separan las palabras\n",
    "\n",
    "    frecuencia = {} #Se crea un diccionario vacío para almacenar la frecuencia de cada palabra\n",
    "\n",
    "    for palabra in palabras: #Se itera sobre cada palabra en el texto\n",
    "\n",
    "        palabra = palabra.strip(\".,;:¿?!¡\") #Se eliminan los signos de puntuación de la palabra\n",
    "\n",
    "        if palabra in frecuencia: #Si la palabra ya está en la lista \"frecuencia\", se incrementa su contador\n",
    "\n",
    "            frecuencia[palabra] += 1\n",
    "\n",
    "        else: #Si la palabra no está en la lista frecuencia, se agrega con un contador inicial de 1\n",
    "\n",
    "            frecuencia[palabra] = 1\n",
    "\n",
    "    return frecuencia\n",
    "\n",
    "\n",
    "contar_palabras()"
   ]
  },
  {
   "cell_type": "markdown",
   "metadata": {},
   "source": [
    "### 4. **Funciones**\n",
    "\n",
    "- **Actividad 1**: Escribir una función que calcule el total de una factura tras aplicarle el IVA. La función debe recibir la cantidad sin IVA y el porcentaje de IVA a aplicar, y devolver el total de la factura. Si se invoca la función sin pasarle el porcentaje de IVA, deberá aplicar un 21%.\n",
    "\n",
    "- **Actividad 2**: Escribir una función que reciba un número entero positivo y devuelva su factorial.\n"
   ]
  },
  {
   "cell_type": "code",
   "execution_count": null,
   "metadata": {},
   "outputs": [
    {
     "name": "stdout",
     "output_type": "stream",
     "text": [
      "El total de la factura (con 24.0% de IVA) es: 24.8\n"
     ]
    }
   ],
   "source": [
    "\n",
    "# todo: Resolución\n",
    "\n",
    "# ! 1\n",
    "def calcular_iva():\n",
    "\n",
    "    cantidad = float(input(\"Ingrese el total de la factura: \")) #Se solicita al usuario que ingrese el total de la factura\n",
    "    iva_input = (input(\"Ingrese el IVA: \")) #Se solicita al usuario que ingrese el IVA\n",
    "\n",
    "    if iva_input.strip() == \"\": #Si el usuario no ingresa nada, se asigna el IVA por defecto (21%)\n",
    "        iva = 21\n",
    "    else:\n",
    "        iva = float(iva_input) #sino se convierte el IVA ingresado por el usuario a un número decimal\n",
    "    \n",
    "    total = cantidad + (cantidad * iva / 100) #Se calcula el total sumando el IVA al monto ingresado por el usuario\n",
    "\n",
    "    print(f\"El total de la factura (con {iva}% de IVA) es: {total}\") #Se imprime el total de la factura con el IVA correspondiente\n",
    "\n",
    "calcular_iva()"
   ]
  },
  {
   "cell_type": "code",
   "execution_count": null,
   "metadata": {},
   "outputs": [
    {
     "name": "stdout",
     "output_type": "stream",
     "text": [
      "2! = 1 x 2 = 2\n"
     ]
    }
   ],
   "source": [
    "\n",
    "# todo: Resolución\n",
    "\n",
    "# ! 2\n",
    "def factorial():\n",
    "    n = int(input(\"Ingrese un número entero positivo: \")) #Se solicita al usuario que ingrese un número entero positivo\n",
    "\n",
    "    nums = []   #Se crea una lista vacía para almacenar los números del factorial\n",
    "\n",
    "    resultado = 1 #Se inicializa la variable resultado en 1\n",
    "\n",
    "    for i in range(1, n + 1): #Se itera desde 1 hasta el número ingresado por el usuario\n",
    "\n",
    "        nums.append(i)  #Se agrega el número actual a la lista nums\n",
    "\n",
    "        resultado *= i #Se multiplica el resultado por el número actual\n",
    "\n",
    "    nums = \" x \".join(str(num) for num in nums) #Se convierte la lista nums en una cadena de texto, separando los números con \"x\"\n",
    "\n",
    "    print(f\"{n}! = {nums} = {resultado}\") #Se imprime el resultado del factorial en formato de multiplicación\n",
    "\n",
    "factorial() \n"
   ]
  }
 ],
 "metadata": {
  "kernelspec": {
   "display_name": "Python 3",
   "language": "python",
   "name": "python3"
  },
  "language_info": {
   "codemirror_mode": {
    "name": "ipython",
    "version": 3
   },
   "file_extension": ".py",
   "mimetype": "text/x-python",
   "name": "python",
   "nbconvert_exporter": "python",
   "pygments_lexer": "ipython3",
   "version": "3.13.2"
  }
 },
 "nbformat": 4,
 "nbformat_minor": 2
}
